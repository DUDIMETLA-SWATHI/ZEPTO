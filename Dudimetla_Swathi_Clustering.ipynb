{
  "nbformat": 4,
  "nbformat_minor": 0,
  "metadata": {
    "colab": {
      "provenance": [],
      "history_visible": true
    },
    "kernelspec": {
      "name": "python3",
      "display_name": "Python 3"
    },
    "language_info": {
      "name": "python"
    }
  },
  "cells": [
    {
      "cell_type": "code",
      "execution_count": 4,
      "metadata": {
        "id": "PCepMUWadKUP"
      },
      "outputs": [],
      "source": [
        "import pandas as pd\n",
        "from sklearn.preprocessing import StandardScaler\n",
        "from sklearn.cluster import KMeans\n",
        "from sklearn.metrics import davies_bouldin_score\n",
        "import matplotlib.pyplot as plt\n",
        "import seaborn as sns\n",
        "import numpy as np"
      ]
    },
    {
      "cell_type": "markdown",
      "source": [
        "importing the necessary tools for data manipulation, preprocessing, clustering, evaluation, and visualization"
      ],
      "metadata": {
        "id": "WWOm-AeZrw7_"
      }
    },
    {
      "cell_type": "code",
      "source": [
        "# Step 1: Load Datasets\n",
        "customers_df = pd.read_csv('Customers.csv')\n",
        "products_df = pd.read_csv('Products.csv')\n",
        "transactions_df = pd.read_csv('Transactions.csv')"
      ],
      "metadata": {
        "id": "iR0rY41xe6UC"
      },
      "execution_count": 5,
      "outputs": []
    },
    {
      "cell_type": "markdown",
      "source": [
        "loading three separate datasets from CSV files into pandas DataFrames, making them readily available for further analysis in the Python"
      ],
      "metadata": {
        "id": "hkZXiUvusJuc"
      }
    },
    {
      "cell_type": "code",
      "source": [
        "# check few records of the dataset\n",
        "customers_df.head()"
      ],
      "metadata": {
        "colab": {
          "base_uri": "https://localhost:8080/",
          "height": 206
        },
        "id": "5pVE2DBYegxX",
        "outputId": "0998c0b2-035c-4428-c6aa-ce59383eaa12"
      },
      "execution_count": 6,
      "outputs": [
        {
          "output_type": "execute_result",
          "data": {
            "text/plain": [
              "  CustomerID        CustomerName         Region  SignupDate\n",
              "0      C0001    Lawrence Carroll  South America  2022-07-10\n",
              "1      C0002      Elizabeth Lutz           Asia  2022-02-13\n",
              "2      C0003      Michael Rivera  South America  2024-03-07\n",
              "3      C0004  Kathleen Rodriguez  South America  2022-10-09\n",
              "4      C0005         Laura Weber           Asia  2022-08-15"
            ],
            "text/html": [
              "\n",
              "  <div id=\"df-dbbbcd1a-06d2-46f1-a3f1-c6a121b7cfe8\" class=\"colab-df-container\">\n",
              "    <div>\n",
              "<style scoped>\n",
              "    .dataframe tbody tr th:only-of-type {\n",
              "        vertical-align: middle;\n",
              "    }\n",
              "\n",
              "    .dataframe tbody tr th {\n",
              "        vertical-align: top;\n",
              "    }\n",
              "\n",
              "    .dataframe thead th {\n",
              "        text-align: right;\n",
              "    }\n",
              "</style>\n",
              "<table border=\"1\" class=\"dataframe\">\n",
              "  <thead>\n",
              "    <tr style=\"text-align: right;\">\n",
              "      <th></th>\n",
              "      <th>CustomerID</th>\n",
              "      <th>CustomerName</th>\n",
              "      <th>Region</th>\n",
              "      <th>SignupDate</th>\n",
              "    </tr>\n",
              "  </thead>\n",
              "  <tbody>\n",
              "    <tr>\n",
              "      <th>0</th>\n",
              "      <td>C0001</td>\n",
              "      <td>Lawrence Carroll</td>\n",
              "      <td>South America</td>\n",
              "      <td>2022-07-10</td>\n",
              "    </tr>\n",
              "    <tr>\n",
              "      <th>1</th>\n",
              "      <td>C0002</td>\n",
              "      <td>Elizabeth Lutz</td>\n",
              "      <td>Asia</td>\n",
              "      <td>2022-02-13</td>\n",
              "    </tr>\n",
              "    <tr>\n",
              "      <th>2</th>\n",
              "      <td>C0003</td>\n",
              "      <td>Michael Rivera</td>\n",
              "      <td>South America</td>\n",
              "      <td>2024-03-07</td>\n",
              "    </tr>\n",
              "    <tr>\n",
              "      <th>3</th>\n",
              "      <td>C0004</td>\n",
              "      <td>Kathleen Rodriguez</td>\n",
              "      <td>South America</td>\n",
              "      <td>2022-10-09</td>\n",
              "    </tr>\n",
              "    <tr>\n",
              "      <th>4</th>\n",
              "      <td>C0005</td>\n",
              "      <td>Laura Weber</td>\n",
              "      <td>Asia</td>\n",
              "      <td>2022-08-15</td>\n",
              "    </tr>\n",
              "  </tbody>\n",
              "</table>\n",
              "</div>\n",
              "    <div class=\"colab-df-buttons\">\n",
              "\n",
              "  <div class=\"colab-df-container\">\n",
              "    <button class=\"colab-df-convert\" onclick=\"convertToInteractive('df-dbbbcd1a-06d2-46f1-a3f1-c6a121b7cfe8')\"\n",
              "            title=\"Convert this dataframe to an interactive table.\"\n",
              "            style=\"display:none;\">\n",
              "\n",
              "  <svg xmlns=\"http://www.w3.org/2000/svg\" height=\"24px\" viewBox=\"0 -960 960 960\">\n",
              "    <path d=\"M120-120v-720h720v720H120Zm60-500h600v-160H180v160Zm220 220h160v-160H400v160Zm0 220h160v-160H400v160ZM180-400h160v-160H180v160Zm440 0h160v-160H620v160ZM180-180h160v-160H180v160Zm440 0h160v-160H620v160Z\"/>\n",
              "  </svg>\n",
              "    </button>\n",
              "\n",
              "  <style>\n",
              "    .colab-df-container {\n",
              "      display:flex;\n",
              "      gap: 12px;\n",
              "    }\n",
              "\n",
              "    .colab-df-convert {\n",
              "      background-color: #E8F0FE;\n",
              "      border: none;\n",
              "      border-radius: 50%;\n",
              "      cursor: pointer;\n",
              "      display: none;\n",
              "      fill: #1967D2;\n",
              "      height: 32px;\n",
              "      padding: 0 0 0 0;\n",
              "      width: 32px;\n",
              "    }\n",
              "\n",
              "    .colab-df-convert:hover {\n",
              "      background-color: #E2EBFA;\n",
              "      box-shadow: 0px 1px 2px rgba(60, 64, 67, 0.3), 0px 1px 3px 1px rgba(60, 64, 67, 0.15);\n",
              "      fill: #174EA6;\n",
              "    }\n",
              "\n",
              "    .colab-df-buttons div {\n",
              "      margin-bottom: 4px;\n",
              "    }\n",
              "\n",
              "    [theme=dark] .colab-df-convert {\n",
              "      background-color: #3B4455;\n",
              "      fill: #D2E3FC;\n",
              "    }\n",
              "\n",
              "    [theme=dark] .colab-df-convert:hover {\n",
              "      background-color: #434B5C;\n",
              "      box-shadow: 0px 1px 3px 1px rgba(0, 0, 0, 0.15);\n",
              "      filter: drop-shadow(0px 1px 2px rgba(0, 0, 0, 0.3));\n",
              "      fill: #FFFFFF;\n",
              "    }\n",
              "  </style>\n",
              "\n",
              "    <script>\n",
              "      const buttonEl =\n",
              "        document.querySelector('#df-dbbbcd1a-06d2-46f1-a3f1-c6a121b7cfe8 button.colab-df-convert');\n",
              "      buttonEl.style.display =\n",
              "        google.colab.kernel.accessAllowed ? 'block' : 'none';\n",
              "\n",
              "      async function convertToInteractive(key) {\n",
              "        const element = document.querySelector('#df-dbbbcd1a-06d2-46f1-a3f1-c6a121b7cfe8');\n",
              "        const dataTable =\n",
              "          await google.colab.kernel.invokeFunction('convertToInteractive',\n",
              "                                                    [key], {});\n",
              "        if (!dataTable) return;\n",
              "\n",
              "        const docLinkHtml = 'Like what you see? Visit the ' +\n",
              "          '<a target=\"_blank\" href=https://colab.research.google.com/notebooks/data_table.ipynb>data table notebook</a>'\n",
              "          + ' to learn more about interactive tables.';\n",
              "        element.innerHTML = '';\n",
              "        dataTable['output_type'] = 'display_data';\n",
              "        await google.colab.output.renderOutput(dataTable, element);\n",
              "        const docLink = document.createElement('div');\n",
              "        docLink.innerHTML = docLinkHtml;\n",
              "        element.appendChild(docLink);\n",
              "      }\n",
              "    </script>\n",
              "  </div>\n",
              "\n",
              "\n",
              "<div id=\"df-fac0ffbc-f554-4bd7-ba1b-c50b2113b45b\">\n",
              "  <button class=\"colab-df-quickchart\" onclick=\"quickchart('df-fac0ffbc-f554-4bd7-ba1b-c50b2113b45b')\"\n",
              "            title=\"Suggest charts\"\n",
              "            style=\"display:none;\">\n",
              "\n",
              "<svg xmlns=\"http://www.w3.org/2000/svg\" height=\"24px\"viewBox=\"0 0 24 24\"\n",
              "     width=\"24px\">\n",
              "    <g>\n",
              "        <path d=\"M19 3H5c-1.1 0-2 .9-2 2v14c0 1.1.9 2 2 2h14c1.1 0 2-.9 2-2V5c0-1.1-.9-2-2-2zM9 17H7v-7h2v7zm4 0h-2V7h2v10zm4 0h-2v-4h2v4z\"/>\n",
              "    </g>\n",
              "</svg>\n",
              "  </button>\n",
              "\n",
              "<style>\n",
              "  .colab-df-quickchart {\n",
              "      --bg-color: #E8F0FE;\n",
              "      --fill-color: #1967D2;\n",
              "      --hover-bg-color: #E2EBFA;\n",
              "      --hover-fill-color: #174EA6;\n",
              "      --disabled-fill-color: #AAA;\n",
              "      --disabled-bg-color: #DDD;\n",
              "  }\n",
              "\n",
              "  [theme=dark] .colab-df-quickchart {\n",
              "      --bg-color: #3B4455;\n",
              "      --fill-color: #D2E3FC;\n",
              "      --hover-bg-color: #434B5C;\n",
              "      --hover-fill-color: #FFFFFF;\n",
              "      --disabled-bg-color: #3B4455;\n",
              "      --disabled-fill-color: #666;\n",
              "  }\n",
              "\n",
              "  .colab-df-quickchart {\n",
              "    background-color: var(--bg-color);\n",
              "    border: none;\n",
              "    border-radius: 50%;\n",
              "    cursor: pointer;\n",
              "    display: none;\n",
              "    fill: var(--fill-color);\n",
              "    height: 32px;\n",
              "    padding: 0;\n",
              "    width: 32px;\n",
              "  }\n",
              "\n",
              "  .colab-df-quickchart:hover {\n",
              "    background-color: var(--hover-bg-color);\n",
              "    box-shadow: 0 1px 2px rgba(60, 64, 67, 0.3), 0 1px 3px 1px rgba(60, 64, 67, 0.15);\n",
              "    fill: var(--button-hover-fill-color);\n",
              "  }\n",
              "\n",
              "  .colab-df-quickchart-complete:disabled,\n",
              "  .colab-df-quickchart-complete:disabled:hover {\n",
              "    background-color: var(--disabled-bg-color);\n",
              "    fill: var(--disabled-fill-color);\n",
              "    box-shadow: none;\n",
              "  }\n",
              "\n",
              "  .colab-df-spinner {\n",
              "    border: 2px solid var(--fill-color);\n",
              "    border-color: transparent;\n",
              "    border-bottom-color: var(--fill-color);\n",
              "    animation:\n",
              "      spin 1s steps(1) infinite;\n",
              "  }\n",
              "\n",
              "  @keyframes spin {\n",
              "    0% {\n",
              "      border-color: transparent;\n",
              "      border-bottom-color: var(--fill-color);\n",
              "      border-left-color: var(--fill-color);\n",
              "    }\n",
              "    20% {\n",
              "      border-color: transparent;\n",
              "      border-left-color: var(--fill-color);\n",
              "      border-top-color: var(--fill-color);\n",
              "    }\n",
              "    30% {\n",
              "      border-color: transparent;\n",
              "      border-left-color: var(--fill-color);\n",
              "      border-top-color: var(--fill-color);\n",
              "      border-right-color: var(--fill-color);\n",
              "    }\n",
              "    40% {\n",
              "      border-color: transparent;\n",
              "      border-right-color: var(--fill-color);\n",
              "      border-top-color: var(--fill-color);\n",
              "    }\n",
              "    60% {\n",
              "      border-color: transparent;\n",
              "      border-right-color: var(--fill-color);\n",
              "    }\n",
              "    80% {\n",
              "      border-color: transparent;\n",
              "      border-right-color: var(--fill-color);\n",
              "      border-bottom-color: var(--fill-color);\n",
              "    }\n",
              "    90% {\n",
              "      border-color: transparent;\n",
              "      border-bottom-color: var(--fill-color);\n",
              "    }\n",
              "  }\n",
              "</style>\n",
              "\n",
              "  <script>\n",
              "    async function quickchart(key) {\n",
              "      const quickchartButtonEl =\n",
              "        document.querySelector('#' + key + ' button');\n",
              "      quickchartButtonEl.disabled = true;  // To prevent multiple clicks.\n",
              "      quickchartButtonEl.classList.add('colab-df-spinner');\n",
              "      try {\n",
              "        const charts = await google.colab.kernel.invokeFunction(\n",
              "            'suggestCharts', [key], {});\n",
              "      } catch (error) {\n",
              "        console.error('Error during call to suggestCharts:', error);\n",
              "      }\n",
              "      quickchartButtonEl.classList.remove('colab-df-spinner');\n",
              "      quickchartButtonEl.classList.add('colab-df-quickchart-complete');\n",
              "    }\n",
              "    (() => {\n",
              "      let quickchartButtonEl =\n",
              "        document.querySelector('#df-fac0ffbc-f554-4bd7-ba1b-c50b2113b45b button');\n",
              "      quickchartButtonEl.style.display =\n",
              "        google.colab.kernel.accessAllowed ? 'block' : 'none';\n",
              "    })();\n",
              "  </script>\n",
              "</div>\n",
              "\n",
              "    </div>\n",
              "  </div>\n"
            ],
            "application/vnd.google.colaboratory.intrinsic+json": {
              "type": "dataframe",
              "variable_name": "customers_df",
              "summary": "{\n  \"name\": \"customers_df\",\n  \"rows\": 200,\n  \"fields\": [\n    {\n      \"column\": \"CustomerID\",\n      \"properties\": {\n        \"dtype\": \"string\",\n        \"num_unique_values\": 200,\n        \"samples\": [\n          \"C0096\",\n          \"C0016\",\n          \"C0031\"\n        ],\n        \"semantic_type\": \"\",\n        \"description\": \"\"\n      }\n    },\n    {\n      \"column\": \"CustomerName\",\n      \"properties\": {\n        \"dtype\": \"string\",\n        \"num_unique_values\": 200,\n        \"samples\": [\n          \"Benjamin Mcclure\",\n          \"Emily Woods\",\n          \"Tina Miller\"\n        ],\n        \"semantic_type\": \"\",\n        \"description\": \"\"\n      }\n    },\n    {\n      \"column\": \"Region\",\n      \"properties\": {\n        \"dtype\": \"category\",\n        \"num_unique_values\": 4,\n        \"samples\": [\n          \"Asia\",\n          \"Europe\",\n          \"South America\"\n        ],\n        \"semantic_type\": \"\",\n        \"description\": \"\"\n      }\n    },\n    {\n      \"column\": \"SignupDate\",\n      \"properties\": {\n        \"dtype\": \"object\",\n        \"num_unique_values\": 179,\n        \"samples\": [\n          \"2022-04-07\",\n          \"2023-12-05\",\n          \"2022-03-15\"\n        ],\n        \"semantic_type\": \"\",\n        \"description\": \"\"\n      }\n    }\n  ]\n}"
            }
          },
          "metadata": {},
          "execution_count": 6
        }
      ]
    },
    {
      "cell_type": "code",
      "source": [
        "# Step 2: Merge the datasets\n",
        "merged_data = transactions_df.merge(customers_df, on='CustomerID', how='left').merge(products_df, on='ProductID', how='left')\n"
      ],
      "metadata": {
        "id": "zUFOYBWlnb3K"
      },
      "execution_count": 7,
      "outputs": []
    },
    {
      "cell_type": "code",
      "source": [
        "print(merged_data)"
      ],
      "metadata": {
        "colab": {
          "base_uri": "https://localhost:8080/"
        },
        "id": "mE0raVoGe5hi",
        "outputId": "1a0b63d5-8867-437a-de7d-9c336a9fa67a"
      },
      "execution_count": 8,
      "outputs": [
        {
          "output_type": "stream",
          "name": "stdout",
          "text": [
            "    TransactionID CustomerID ProductID      TransactionDate  Quantity  \\\n",
            "0          T00001      C0199      P067  2024-08-25 12:38:23         1   \n",
            "1          T00112      C0146      P067  2024-05-27 22:23:54         1   \n",
            "2          T00166      C0127      P067  2024-04-25 07:38:55         1   \n",
            "3          T00272      C0087      P067  2024-03-26 22:55:37         2   \n",
            "4          T00363      C0070      P067  2024-03-21 15:10:10         3   \n",
            "..            ...        ...       ...                  ...       ...   \n",
            "995        T00496      C0118      P037  2024-10-24 08:30:27         1   \n",
            "996        T00759      C0059      P037  2024-06-04 02:15:24         3   \n",
            "997        T00922      C0018      P037  2024-04-05 13:05:32         4   \n",
            "998        T00959      C0115      P037  2024-09-29 10:16:02         2   \n",
            "999        T00992      C0024      P037  2024-04-21 10:52:24         1   \n",
            "\n",
            "     TotalValue  Price_x          CustomerName         Region  SignupDate  \\\n",
            "0        300.68   300.68        Andrea Jenkins         Europe  2022-12-03   \n",
            "1        300.68   300.68       Brittany Harvey           Asia  2024-09-04   \n",
            "2        300.68   300.68       Kathryn Stevens         Europe  2024-04-04   \n",
            "3        601.36   300.68       Travis Campbell  South America  2024-04-11   \n",
            "4        902.04   300.68         Timothy Perez         Europe  2022-03-15   \n",
            "..          ...      ...                   ...            ...         ...   \n",
            "995      459.86   459.86            Jacob Holt  South America  2022-01-22   \n",
            "996     1379.58   459.86  Mrs. Kimberly Wright  North America  2024-04-07   \n",
            "997     1839.44   459.86          Tyler Haynes  North America  2024-09-21   \n",
            "998      919.72   459.86       Joshua Hamilton           Asia  2024-11-11   \n",
            "999      459.86   459.86        Michele Cooley  North America  2024-02-05   \n",
            "\n",
            "                         ProductName     Category  Price_y  \n",
            "0    ComfortLiving Bluetooth Speaker  Electronics   300.68  \n",
            "1    ComfortLiving Bluetooth Speaker  Electronics   300.68  \n",
            "2    ComfortLiving Bluetooth Speaker  Electronics   300.68  \n",
            "3    ComfortLiving Bluetooth Speaker  Electronics   300.68  \n",
            "4    ComfortLiving Bluetooth Speaker  Electronics   300.68  \n",
            "..                               ...          ...      ...  \n",
            "995             SoundWave Smartwatch  Electronics   459.86  \n",
            "996             SoundWave Smartwatch  Electronics   459.86  \n",
            "997             SoundWave Smartwatch  Electronics   459.86  \n",
            "998             SoundWave Smartwatch  Electronics   459.86  \n",
            "999             SoundWave Smartwatch  Electronics   459.86  \n",
            "\n",
            "[1000 rows x 13 columns]\n"
          ]
        }
      ]
    },
    {
      "cell_type": "markdown",
      "source": [
        "The code combines three datasets (transactions, customers, and products) into one called merged_data. It matches rows based on CustomerID and ProductID"
      ],
      "metadata": {
        "id": "CIjIM4DYsgvb"
      }
    },
    {
      "cell_type": "code",
      "source": [
        "# Step 3: Feature engineering\n",
        "# Extract year and month from TransactionDate\n",
        "merged_data['TransactionDate'] = pd.to_datetime(merged_data['TransactionDate'])\n",
        "merged_data['TransactionYear'] = merged_data['TransactionDate'].dt.year\n",
        "merged_data['TransactionMonth'] = merged_data['TransactionDate'].dt.month"
      ],
      "metadata": {
        "id": "_wUQ_Q21nqW9"
      },
      "execution_count": 9,
      "outputs": []
    },
    {
      "cell_type": "markdown",
      "source": [
        " Convert the existing 'TransactionDate' column, converts it into a proper date format, and then creates two new columns:\n",
        " 'TransactionYear' and 'TransactionMonth'"
      ],
      "metadata": {
        "id": "tXfCckERtjhU"
      }
    },
    {
      "cell_type": "code",
      "source": [
        "print(merged_data)"
      ],
      "metadata": {
        "colab": {
          "base_uri": "https://localhost:8080/"
        },
        "id": "b9wlpbshnxRh",
        "outputId": "3c6feab9-dcb9-403e-cf01-63ef7f508c9a"
      },
      "execution_count": 10,
      "outputs": [
        {
          "output_type": "stream",
          "name": "stdout",
          "text": [
            "    TransactionID CustomerID ProductID     TransactionDate  Quantity  \\\n",
            "0          T00001      C0199      P067 2024-08-25 12:38:23         1   \n",
            "1          T00112      C0146      P067 2024-05-27 22:23:54         1   \n",
            "2          T00166      C0127      P067 2024-04-25 07:38:55         1   \n",
            "3          T00272      C0087      P067 2024-03-26 22:55:37         2   \n",
            "4          T00363      C0070      P067 2024-03-21 15:10:10         3   \n",
            "..            ...        ...       ...                 ...       ...   \n",
            "995        T00496      C0118      P037 2024-10-24 08:30:27         1   \n",
            "996        T00759      C0059      P037 2024-06-04 02:15:24         3   \n",
            "997        T00922      C0018      P037 2024-04-05 13:05:32         4   \n",
            "998        T00959      C0115      P037 2024-09-29 10:16:02         2   \n",
            "999        T00992      C0024      P037 2024-04-21 10:52:24         1   \n",
            "\n",
            "     TotalValue  Price_x          CustomerName         Region  SignupDate  \\\n",
            "0        300.68   300.68        Andrea Jenkins         Europe  2022-12-03   \n",
            "1        300.68   300.68       Brittany Harvey           Asia  2024-09-04   \n",
            "2        300.68   300.68       Kathryn Stevens         Europe  2024-04-04   \n",
            "3        601.36   300.68       Travis Campbell  South America  2024-04-11   \n",
            "4        902.04   300.68         Timothy Perez         Europe  2022-03-15   \n",
            "..          ...      ...                   ...            ...         ...   \n",
            "995      459.86   459.86            Jacob Holt  South America  2022-01-22   \n",
            "996     1379.58   459.86  Mrs. Kimberly Wright  North America  2024-04-07   \n",
            "997     1839.44   459.86          Tyler Haynes  North America  2024-09-21   \n",
            "998      919.72   459.86       Joshua Hamilton           Asia  2024-11-11   \n",
            "999      459.86   459.86        Michele Cooley  North America  2024-02-05   \n",
            "\n",
            "                         ProductName     Category  Price_y  TransactionYear  \\\n",
            "0    ComfortLiving Bluetooth Speaker  Electronics   300.68             2024   \n",
            "1    ComfortLiving Bluetooth Speaker  Electronics   300.68             2024   \n",
            "2    ComfortLiving Bluetooth Speaker  Electronics   300.68             2024   \n",
            "3    ComfortLiving Bluetooth Speaker  Electronics   300.68             2024   \n",
            "4    ComfortLiving Bluetooth Speaker  Electronics   300.68             2024   \n",
            "..                               ...          ...      ...              ...   \n",
            "995             SoundWave Smartwatch  Electronics   459.86             2024   \n",
            "996             SoundWave Smartwatch  Electronics   459.86             2024   \n",
            "997             SoundWave Smartwatch  Electronics   459.86             2024   \n",
            "998             SoundWave Smartwatch  Electronics   459.86             2024   \n",
            "999             SoundWave Smartwatch  Electronics   459.86             2024   \n",
            "\n",
            "     TransactionMonth  \n",
            "0                   8  \n",
            "1                   5  \n",
            "2                   4  \n",
            "3                   3  \n",
            "4                   3  \n",
            "..                ...  \n",
            "995                10  \n",
            "996                 6  \n",
            "997                 4  \n",
            "998                 9  \n",
            "999                 4  \n",
            "\n",
            "[1000 rows x 15 columns]\n"
          ]
        }
      ]
    },
    {
      "cell_type": "code",
      "source": [
        "# Aggregate features by CustomerID\n",
        "customer_features = merged_data.groupby('CustomerID').agg({\n",
        "    'TotalValue': ['sum', 'mean'],          # Total and average spending\n",
        "    'Quantity': 'sum',                     # Total quantity purchased\n",
        "    'TransactionID': 'count',              # Transaction count\n",
        "    'Region': 'first',                     # Region\n",
        "    'SignupDate': 'first'                  # Signup date\n",
        "}).reset_index()\n",
        "\n",
        "# Rename columns\n",
        "customer_features.columns = [\n",
        "    'CustomerID', 'TotalSpending', 'AvgSpending', 'TotalQuantity', 'TransactionCount', 'Region', 'SignupDate'\n",
        "]"
      ],
      "metadata": {
        "id": "xM20Vvk9n52B"
      },
      "execution_count": 11,
      "outputs": []
    },
    {
      "cell_type": "markdown",
      "source": [
        "a large dataset of customer transactions and creates a summary table (customer_features) where each row represents a unique customer, and the columns contain calculated features about their spending, purchase quantities, transaction frequency, region, and signup date. This summarized data will be used for customer segmentation later"
      ],
      "metadata": {
        "id": "Yl5hU4SU2hfr"
      }
    },
    {
      "cell_type": "code",
      "source": [
        "print(customer_features)"
      ],
      "metadata": {
        "colab": {
          "base_uri": "https://localhost:8080/"
        },
        "id": "uhTINrs3oAWl",
        "outputId": "087f75f8-29a4-4ce4-fcb6-d7a388f2424f"
      },
      "execution_count": 12,
      "outputs": [
        {
          "output_type": "stream",
          "name": "stdout",
          "text": [
            "    CustomerID  TotalSpending  AvgSpending  TotalQuantity  TransactionCount  \\\n",
            "0        C0001        3354.52   670.904000             12                 5   \n",
            "1        C0002        1862.74   465.685000             10                 4   \n",
            "2        C0003        2725.38   681.345000             14                 4   \n",
            "3        C0004        5354.88   669.360000             23                 8   \n",
            "4        C0005        2034.24   678.080000              7                 3   \n",
            "..         ...            ...          ...            ...               ...   \n",
            "194      C0196        4982.88  1245.720000             12                 4   \n",
            "195      C0197        1928.65   642.883333              9                 3   \n",
            "196      C0198         931.83   465.915000              3                 2   \n",
            "197      C0199        1979.28   494.820000              9                 4   \n",
            "198      C0200        4758.60   951.720000             16                 5   \n",
            "\n",
            "            Region  SignupDate  \n",
            "0    South America  2022-07-10  \n",
            "1             Asia  2022-02-13  \n",
            "2    South America  2024-03-07  \n",
            "3    South America  2022-10-09  \n",
            "4             Asia  2022-08-15  \n",
            "..             ...         ...  \n",
            "194         Europe  2022-06-07  \n",
            "195         Europe  2023-03-21  \n",
            "196         Europe  2022-02-27  \n",
            "197         Europe  2022-12-03  \n",
            "198           Asia  2023-06-11  \n",
            "\n",
            "[199 rows x 7 columns]\n"
          ]
        }
      ]
    },
    {
      "cell_type": "code",
      "source": [
        "# Calculate customer tenure in months\n",
        "customer_features['SignupDate'] = pd.to_datetime(customer_features['SignupDate'])\n",
        "customer_features['CustomerTenureMonths'] = ((pd.Timestamp.now() - customer_features['SignupDate']).dt.days // 30).astype(int)\n"
      ],
      "metadata": {
        "id": "vRpmFRwfoH9z"
      },
      "execution_count": 13,
      "outputs": []
    },
    {
      "cell_type": "markdown",
      "source": [
        "calculates the difference in days between the current date and the customer's signup date, then divides by 30 to estimate the tenure in months, and finally stores this tenure value in a new column called 'CustomerTenureMonths' within the customer_features DataFrame."
      ],
      "metadata": {
        "id": "S1FbApU-3I4w"
      }
    },
    {
      "cell_type": "code",
      "source": [
        "print(customer_features)"
      ],
      "metadata": {
        "colab": {
          "base_uri": "https://localhost:8080/"
        },
        "id": "_908pYqJoJmp",
        "outputId": "719eb950-4732-4302-c763-c14f394c2d57"
      },
      "execution_count": 15,
      "outputs": [
        {
          "output_type": "stream",
          "name": "stdout",
          "text": [
            "    CustomerID  TotalSpending  AvgSpending  TotalQuantity  TransactionCount  \\\n",
            "0        C0001        3354.52   670.904000             12                 5   \n",
            "1        C0002        1862.74   465.685000             10                 4   \n",
            "2        C0003        2725.38   681.345000             14                 4   \n",
            "3        C0004        5354.88   669.360000             23                 8   \n",
            "4        C0005        2034.24   678.080000              7                 3   \n",
            "..         ...            ...          ...            ...               ...   \n",
            "194      C0196        4982.88  1245.720000             12                 4   \n",
            "195      C0197        1928.65   642.883333              9                 3   \n",
            "196      C0198         931.83   465.915000              3                 2   \n",
            "197      C0199        1979.28   494.820000              9                 4   \n",
            "198      C0200        4758.60   951.720000             16                 5   \n",
            "\n",
            "            Region SignupDate  CustomerTenureMonths  \n",
            "0    South America 2022-07-10                    31  \n",
            "1             Asia 2022-02-13                    35  \n",
            "2    South America 2024-03-07                    10  \n",
            "3    South America 2022-10-09                    28  \n",
            "4             Asia 2022-08-15                    29  \n",
            "..             ...        ...                   ...  \n",
            "194         Europe 2022-06-07                    32  \n",
            "195         Europe 2023-03-21                    22  \n",
            "196         Europe 2022-02-27                    35  \n",
            "197         Europe 2022-12-03                    26  \n",
            "198           Asia 2023-06-11                    19  \n",
            "\n",
            "[199 rows x 8 columns]\n"
          ]
        }
      ]
    },
    {
      "cell_type": "code",
      "source": [
        "# Encode the Region column\n",
        "customer_features = pd.get_dummies(customer_features, columns=['Region'], drop_first=True)\n"
      ],
      "metadata": {
        "id": "D4H-u8MYoNiZ"
      },
      "execution_count": 16,
      "outputs": []
    },
    {
      "cell_type": "markdown",
      "source": [
        "One-hot encoding allows us to represent categorical information in a way that these algorithms can understand and use effectively for tasks like clustering."
      ],
      "metadata": {
        "id": "m16-LgV_3r3U"
      }
    },
    {
      "cell_type": "code",
      "source": [
        "print(customer_features)"
      ],
      "metadata": {
        "colab": {
          "base_uri": "https://localhost:8080/"
        },
        "id": "wkT7gdNJoSWG",
        "outputId": "81e10891-7021-4af3-e030-0cddedaac0ec"
      },
      "execution_count": 17,
      "outputs": [
        {
          "output_type": "stream",
          "name": "stdout",
          "text": [
            "    CustomerID  TotalSpending  AvgSpending  TotalQuantity  TransactionCount  \\\n",
            "0        C0001        3354.52   670.904000             12                 5   \n",
            "1        C0002        1862.74   465.685000             10                 4   \n",
            "2        C0003        2725.38   681.345000             14                 4   \n",
            "3        C0004        5354.88   669.360000             23                 8   \n",
            "4        C0005        2034.24   678.080000              7                 3   \n",
            "..         ...            ...          ...            ...               ...   \n",
            "194      C0196        4982.88  1245.720000             12                 4   \n",
            "195      C0197        1928.65   642.883333              9                 3   \n",
            "196      C0198         931.83   465.915000              3                 2   \n",
            "197      C0199        1979.28   494.820000              9                 4   \n",
            "198      C0200        4758.60   951.720000             16                 5   \n",
            "\n",
            "    SignupDate  CustomerTenureMonths  Region_Europe  Region_North America  \\\n",
            "0   2022-07-10                    31          False                 False   \n",
            "1   2022-02-13                    35          False                 False   \n",
            "2   2024-03-07                    10          False                 False   \n",
            "3   2022-10-09                    28          False                 False   \n",
            "4   2022-08-15                    29          False                 False   \n",
            "..         ...                   ...            ...                   ...   \n",
            "194 2022-06-07                    32           True                 False   \n",
            "195 2023-03-21                    22           True                 False   \n",
            "196 2022-02-27                    35           True                 False   \n",
            "197 2022-12-03                    26           True                 False   \n",
            "198 2023-06-11                    19          False                 False   \n",
            "\n",
            "     Region_South America  \n",
            "0                    True  \n",
            "1                   False  \n",
            "2                    True  \n",
            "3                    True  \n",
            "4                   False  \n",
            "..                    ...  \n",
            "194                 False  \n",
            "195                 False  \n",
            "196                 False  \n",
            "197                 False  \n",
            "198                 False  \n",
            "\n",
            "[199 rows x 10 columns]\n"
          ]
        }
      ]
    },
    {
      "cell_type": "code",
      "source": [
        "# Drop unnecessary columns\n",
        "clustering_data = customer_features.drop(columns=['CustomerID', 'SignupDate'])\n",
        "print(clustering_data)"
      ],
      "metadata": {
        "colab": {
          "base_uri": "https://localhost:8080/"
        },
        "id": "1v0anSDuoWIo",
        "outputId": "8e71480f-b12d-461e-f0f3-f15b7cd0cf61"
      },
      "execution_count": 18,
      "outputs": [
        {
          "output_type": "stream",
          "name": "stdout",
          "text": [
            "     TotalSpending  AvgSpending  TotalQuantity  TransactionCount  \\\n",
            "0          3354.52   670.904000             12                 5   \n",
            "1          1862.74   465.685000             10                 4   \n",
            "2          2725.38   681.345000             14                 4   \n",
            "3          5354.88   669.360000             23                 8   \n",
            "4          2034.24   678.080000              7                 3   \n",
            "..             ...          ...            ...               ...   \n",
            "194        4982.88  1245.720000             12                 4   \n",
            "195        1928.65   642.883333              9                 3   \n",
            "196         931.83   465.915000              3                 2   \n",
            "197        1979.28   494.820000              9                 4   \n",
            "198        4758.60   951.720000             16                 5   \n",
            "\n",
            "     CustomerTenureMonths  Region_Europe  Region_North America  \\\n",
            "0                      31          False                 False   \n",
            "1                      35          False                 False   \n",
            "2                      10          False                 False   \n",
            "3                      28          False                 False   \n",
            "4                      29          False                 False   \n",
            "..                    ...            ...                   ...   \n",
            "194                    32           True                 False   \n",
            "195                    22           True                 False   \n",
            "196                    35           True                 False   \n",
            "197                    26           True                 False   \n",
            "198                    19          False                 False   \n",
            "\n",
            "     Region_South America  \n",
            "0                    True  \n",
            "1                   False  \n",
            "2                    True  \n",
            "3                    True  \n",
            "4                   False  \n",
            "..                    ...  \n",
            "194                 False  \n",
            "195                 False  \n",
            "196                 False  \n",
            "197                 False  \n",
            "198                 False  \n",
            "\n",
            "[199 rows x 8 columns]\n"
          ]
        }
      ]
    },
    {
      "cell_type": "markdown",
      "source": [],
      "metadata": {
        "id": "bsKHRF0-4K-M"
      }
    },
    {
      "cell_type": "markdown",
      "source": [
        "this section of code cleans and prepares your data for clustering by focusing on the features most likely to reveal meaningful customer segments. By removing unnecessary columns, you potentially improve the performance and interpretability of your clustering results."
      ],
      "metadata": {
        "id": "yd8GBWbq3971"
      }
    },
    {
      "cell_type": "code",
      "source": [
        "# Step 4: Normalize the data\n",
        "scaler = StandardScaler()\n",
        "normalized_data = scaler.fit_transform(clustering_data)\n",
        "print(normalized_data)"
      ],
      "metadata": {
        "colab": {
          "base_uri": "https://localhost:8080/"
        },
        "id": "399u797AoknT",
        "outputId": "4842d41f-4f23-4b0c-c187-0b2e836c4c66"
      },
      "execution_count": 19,
      "outputs": [
        {
          "output_type": "stream",
          "name": "stdout",
          "text": [
            "[[-0.06170143 -0.07026341 -0.12203296 ... -0.57928445 -0.54831888\n",
            "   1.54041597]\n",
            " [-0.87774353 -0.93493297 -0.44800021 ... -0.57928445 -0.54831888\n",
            "  -0.6491753 ]\n",
            " [-0.40585722 -0.02627131  0.20393428 ... -0.57928445 -0.54831888\n",
            "   1.54041597]\n",
            " ...\n",
            " [-1.38697529 -0.93396389 -1.58888557 ...  1.72626765 -0.54831888\n",
            "  -0.6491753 ]\n",
            " [-0.81399315 -0.81217559 -0.61098383 ...  1.72626765 -0.54831888\n",
            "  -0.6491753 ]\n",
            " [ 0.70636652  1.11292648  0.52990153 ... -0.57928445 -0.54831888\n",
            "  -0.6491753 ]]\n"
          ]
        }
      ]
    },
    {
      "cell_type": "code",
      "source": [
        "# Step 5: Clustering using K-Means\n",
        "# Test a range of cluster numbers (2 to 10)\n",
        "db_index_scores = []\n",
        "k_range = range(2, 11)\n",
        "kmeans_models = []\n",
        "\n",
        "for k in k_range:\n",
        "    kmeans = KMeans(n_clusters=k, random_state=42, n_init=10)\n",
        "    kmeans.fit(normalized_data)\n",
        "    kmeans_models.append(kmeans)\n",
        "    db_index = davies_bouldin_score(normalized_data, kmeans.labels_)\n",
        "    db_index_scores.append(db_index)"
      ],
      "metadata": {
        "id": "rDSxFcgoosmh"
      },
      "execution_count": 20,
      "outputs": []
    },
    {
      "cell_type": "code",
      "source": [
        "# Determine the optimal number of clusters\n",
        "optimal_k = k_range[db_index_scores.index(min(db_index_scores))]\n",
        "print(f\"Optimal number of clusters: {optimal_k}\")"
      ],
      "metadata": {
        "colab": {
          "base_uri": "https://localhost:8080/"
        },
        "id": "V3MxU6mwo5rN",
        "outputId": "3a4eeb79-90a8-4e51-cd3b-e3e5a82bb6e1"
      },
      "execution_count": 23,
      "outputs": [
        {
          "output_type": "stream",
          "name": "stdout",
          "text": [
            "Optimal number of clusters: 6\n"
          ]
        }
      ]
    },
    {
      "cell_type": "code",
      "source": [
        "# Step 6: Visualize the Davies-Bouldin Index\n",
        "plt.figure(figsize=(10, 6))\n",
        "sns.lineplot(x=list(k_range), y=db_index_scores, marker='o')\n",
        "plt.title(\"Davies-Bouldin Index for Different Numbers of Clusters\")\n",
        "plt.xlabel(\"Number of Clusters\")\n",
        "plt.ylabel(\"Davies-Bouldin Index\")\n",
        "plt.xticks(list(k_range))\n",
        "plt.grid()\n",
        "plt.show()\n"
      ],
      "metadata": {
        "colab": {
          "base_uri": "https://localhost:8080/",
          "height": 445
        },
        "id": "4QWyWWhNo_Gf",
        "outputId": "9734cac8-99c3-4972-b3b7-9a59884c8ba6"
      },
      "execution_count": 24,
      "outputs": [
        {
          "output_type": "display_data",
          "data": {
            "text/plain": [
              "<Figure size 1000x600 with 1 Axes>"
            ],
            "image/png": "[encoded data removed]"
          },
          "metadata": {}
        }
      ]
    },
    {
      "cell_type": "code",
      "source": [
        "# Step 7: Apply K-Means with optimal clusters\n",
        "final_kmeans = kmeans_models[optimal_k - 2]\n",
        "customer_features['Cluster'] = final_kmeans.labels_\n",
        "print(customer_features)\n"
      ],
      "metadata": {
        "colab": {
          "base_uri": "https://localhost:8080/"
        },
        "id": "hf8mGWDspOZR",
        "outputId": "fde6a594-aa36-4b1e-bab4-3dfc28d5a8a6"
      },
      "execution_count": 26,
      "outputs": [
        {
          "output_type": "stream",
          "name": "stdout",
          "text": [
            "    CustomerID  TotalSpending  AvgSpending  TotalQuantity  TransactionCount  \\\n",
            "0        C0001        3354.52   670.904000             12                 5   \n",
            "1        C0002        1862.74   465.685000             10                 4   \n",
            "2        C0003        2725.38   681.345000             14                 4   \n",
            "3        C0004        5354.88   669.360000             23                 8   \n",
            "4        C0005        2034.24   678.080000              7                 3   \n",
            "..         ...            ...          ...            ...               ...   \n",
            "194      C0196        4982.88  1245.720000             12                 4   \n",
            "195      C0197        1928.65   642.883333              9                 3   \n",
            "196      C0198         931.83   465.915000              3                 2   \n",
            "197      C0199        1979.28   494.820000              9                 4   \n",
            "198      C0200        4758.60   951.720000             16                 5   \n",
            "\n",
            "    SignupDate  CustomerTenureMonths  Region_Europe  Region_North America  \\\n",
            "0   2022-07-10                    31          False                 False   \n",
            "1   2022-02-13                    35          False                 False   \n",
            "2   2024-03-07                    10          False                 False   \n",
            "3   2022-10-09                    28          False                 False   \n",
            "4   2022-08-15                    29          False                 False   \n",
            "..         ...                   ...            ...                   ...   \n",
            "194 2022-06-07                    32           True                 False   \n",
            "195 2023-03-21                    22           True                 False   \n",
            "196 2022-02-27                    35           True                 False   \n",
            "197 2022-12-03                    26           True                 False   \n",
            "198 2023-06-11                    19          False                 False   \n",
            "\n",
            "     Region_South America  Cluster  \n",
            "0                    True        1  \n",
            "1                   False        3  \n",
            "2                    True        1  \n",
            "3                    True        1  \n",
            "4                   False        3  \n",
            "..                    ...      ...  \n",
            "194                 False        5  \n",
            "195                 False        0  \n",
            "196                 False        0  \n",
            "197                 False        0  \n",
            "198                 False        5  \n",
            "\n",
            "[199 rows x 11 columns]\n"
          ]
        }
      ]
    },
    {
      "cell_type": "code",
      "source": [
        "# Step 8: Visualize clusters (example using TotalSpending vs. AvgSpending)\n",
        "plt.figure(figsize=(10, 6))\n",
        "sns.scatterplot(\n",
        "    x=customer_features['TotalSpending'],\n",
        "    y=customer_features['AvgSpending'],\n",
        "    hue=customer_features['Cluster'],\n",
        "    palette='tab10',\n",
        "    s=100\n",
        ")\n",
        "plt.title(\"Customer Segmentation Clusters\")\n",
        "plt.xlabel(\"Total Spending\")\n",
        "plt.ylabel(\"Average Spending\")\n",
        "plt.legend(title=\"Cluster\")\n",
        "plt.grid()\n",
        "plt.show()"
      ],
      "metadata": {
        "colab": {
          "base_uri": "https://localhost:8080/",
          "height": 443
        },
        "id": "psCyrsvCpgli",
        "outputId": "c2980f91-8bf2-4611-f3f0-338c1f6fcc46"
      },
      "execution_count": 29,
      "outputs": [
        {
          "output_type": "display_data",
          "data": {
            "text/plain": [
              "<Figure size 1000x600 with 1 Axes>"
            ],
            "image/png": "[encoded data removed]"
          },
          "metadata": {}
        }
      ]
    },
    {
      "cell_type": "code",
      "source": [
        "# Step 9: Print clustering results\n",
        "print(\"Optimal Number of Clusters:\", optimal_k)\n",
        "print(\"Minimum Davies-Bouldin Index:\", min(db_index_scores))\n"
      ],
      "metadata": {
        "colab": {
          "base_uri": "https://localhost:8080/"
        },
        "id": "Ud9DyPaZp8lr",
        "outputId": "91ff097d-6009-44fa-b51b-81193ddbbc08"
      },
      "execution_count": 30,
      "outputs": [
        {
          "output_type": "stream",
          "name": "stdout",
          "text": [
            "Optimal Number of Clusters: 6\n",
            "Minimum Davies-Bouldin Index: 1.3087162852278154\n"
          ]
        }
      ]
    },
    {
      "cell_type": "code",
      "source": [
        "# Save results\n",
        "data_with_clusters = customer_features[['CustomerID', 'Cluster']]\n",
        "data_with_clusters.to_csv('Customer_Clusters.csv', index=False)\n"
      ],
      "metadata": {
        "id": "ksYRzPB3qBp8"
      },
      "execution_count": 31,
      "outputs": []
    },
    {
      "cell_type": "code",
      "source": [
        "print(data_with_clusters )"
      ],
      "metadata": {
        "colab": {
          "base_uri": "https://localhost:8080/"
        },
        "id": "DQApR7s9qTMr",
        "outputId": "d5304458-07bb-453a-83fe-4267a93dfd78"
      },
      "execution_count": 33,
      "outputs": [
        {
          "output_type": "stream",
          "name": "stdout",
          "text": [
            "    CustomerID  Cluster\n",
            "0        C0001        1\n",
            "1        C0002        3\n",
            "2        C0003        1\n",
            "3        C0004        1\n",
            "4        C0005        3\n",
            "..         ...      ...\n",
            "194      C0196        5\n",
            "195      C0197        0\n",
            "196      C0198        0\n",
            "197      C0199        0\n",
            "198      C0200        5\n",
            "\n",
            "[199 rows x 2 columns]\n"
          ]
        }
      ]
    },
    {
      "cell_type": "markdown",
      "source": [
        "### Deliverables for Customer Clustering:\n",
        "\n",
        "#### 1. **Report on Clustering Results**:\n",
        "   - **Number of Clusters Formed**: The optimal number of clusters was determined using the Davies-Bouldin Index.\n",
        "   - **Davies-Bouldin Index (DB Index)**: The minimum DB Index value was computed and reported.\n",
        "   - **Other Relevant Metrics**: Additional visualizations, such as scatter plots of key features (e.g., Total Spending vs. Average Spending), provide insights into cluster distributions.\n",
        "\n",
        "#### 2. **Jupyter Notebook/Python Script**:\n",
        "The clustering code provided above is ready for use in a Jupyter Notebook or standalone Python script. It includes:\n",
        "   - Preprocessing and feature engineering.\n",
        "   - Clustering using the K-Means algorithm.\n",
        "   - Calculation of the DB Index for cluster evaluation.\n",
        "   - Visualizations for cluster analysis.\n",
        "\n",
        "You can copy the code into a Jupyter Notebook and execute it. All visualizations and metrics will be generated, and the results will be saved as a CSV file (`Customer_Clusters.csv`). Let me know if you'd like help converting this to a fully formatted Jupyter Notebook!"
      ],
      "metadata": {
        "id": "D18QiC-sq3h3"
      }
    }
  ]
}